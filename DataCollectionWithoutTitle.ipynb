{
 "cells": [
  {
   "cell_type": "code",
   "execution_count": null,
   "metadata": {},
   "outputs": [],
   "source": [
    "import requests\n",
    "from bs4 import BeautifulSoup\n",
    "urls=[]\n"
   ]
  },
  {
   "cell_type": "code",
   "execution_count": null,
   "metadata": {},
   "outputs": [],
   "source": [
    "#This program collects the books and create txt files named Book1, Book2.... without book titles"
   ]
  },
  {
   "cell_type": "code",
   "execution_count": null,
   "metadata": {
    "scrolled": true
   },
   "outputs": [],
   "source": [
    "for i in range(1,501):\n",
    "    #Get the txt file page url for each book\n",
    "    url2=\"http://www.gutenberg.org/files/\"+str(i)+\"/\"\n",
    "    r2=requests.get(url2)\n",
    "    if r2.status_code==404:\n",
    "        print(\"Book \"+str(i)+\" doesn't exist.\")\n",
    "        continue\n",
    "    html_contents2=r2.text\n",
    "    html_soup2=BeautifulSoup(html_contents2,\"html.parser\")\n",
    "    t2=html_soup2.find_all('a')\n",
    "    length=len(urls)\n",
    "    for j in t2:\n",
    "        if \"txt\" in j.text.strip():\n",
    "            urls.append(\"http://www.gutenberg.org/files/\"+str(i)+\"/\"+str(j.text.strip()))\n",
    "            break\n",
    "    if length==len(urls):\n",
    "        continue\n",
    "    print(\"Book \"+str(i)+\" done\")"
   ]
  },
  {
   "cell_type": "code",
   "execution_count": null,
   "metadata": {
    "scrolled": true
   },
   "outputs": [],
   "source": [
    "for m in range(0,len(urls)):\n",
    "    i=urls[m]\n",
    "    r=requests.get(i)\n",
    "    r.encoding='utf-8'\n",
    "    html_contents=r.text.replace('\\n','').replace('\\r','')\n",
    "    file=open(\"Book\"+str(m+1)+\".txt\",'w',encoding='utf-8')\n",
    "    file.write(html_contents)\n",
    "    file.close()\n",
    "    print('file'+str(m+1)+' done')"
   ]
  }
 ],
 "metadata": {
  "kernelspec": {
   "display_name": "Python 3",
   "language": "python",
   "name": "python3"
  },
  "language_info": {
   "codemirror_mode": {
    "name": "ipython",
    "version": 3
   },
   "file_extension": ".py",
   "mimetype": "text/x-python",
   "name": "python",
   "nbconvert_exporter": "python",
   "pygments_lexer": "ipython3",
   "version": "3.7.4"
  }
 },
 "nbformat": 4,
 "nbformat_minor": 2
}
