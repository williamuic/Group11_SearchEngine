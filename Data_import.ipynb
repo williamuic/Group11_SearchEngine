{
 "cells": [
  {
   "cell_type": "code",
   "execution_count": 55,
   "metadata": {},
   "outputs": [],
   "source": [
    "import xlrd\n",
    "import pymysql\n",
    "import pandas as pd\n",
    "import re\n",
    "with open(\"Desktop/TFIDF_final.txt\", \"r\") as f:\n",
    "\n",
    "    words = []\n",
    "    list_ = []\n",
    "    for q in range(0,100):\n",
    "        \n",
    "        for i in range(7000*q, 7000*q+7000):\n",
    "            data = f.readline()\n",
    "            result = re.split(r'\\t', data)\n",
    "            words.append(result[0])\n",
    "            string_ = ''\n",
    "            for j in range(1, len(result)):\n",
    "                string_ += str(result[j]).replace('\\n', '') + ','\n",
    "            list_.append(string_)\n",
    "    for x in range(1, 34663):\n",
    "        data = f.readline()\n",
    "        result = re.split(r'\\t', data)\n",
    "        words.append(result[0])\n",
    "        string_ = ''\n",
    "        for j in range(1, len(result)):\n",
    "            string_ += str(result[j]).replace('\\n', '') + ','\n",
    "            list_.append(string_)  "
   ]
  },
  {
   "cell_type": "code",
   "execution_count": 63,
   "metadata": {},
   "outputs": [],
   "source": [
    "conn = pymysql.connect(\n",
    "        host='localhost', \n",
    "        user='root', \n",
    "        passwd='heqirui123321',  \n",
    "        db='website7',  \n",
    "        port=3306,  \n",
    "        charset='utf8'\n",
    "        )\n",
    "cur = conn.cursor()\n",
    "query = 'insert into data (nid,word,book) values (%s, %s, %s)'\n",
    "for r in range(0, 734662):\n",
    "    nid = r\n",
    "    word = words[r]\n",
    "    book = list_[r]\n",
    "    values = (nid,word,book)\n",
    "    cur.execute(query, values)\n",
    "cur.close()\n",
    "conn.commit()\n",
    "conn.close()\n",
    "        "
   ]
  }
 ],
 "metadata": {
  "kernelspec": {
   "display_name": "Python 3",
   "language": "python",
   "name": "python3"
  },
  "language_info": {
   "codemirror_mode": {
    "name": "ipython",
    "version": 3
   },
   "file_extension": ".py",
   "mimetype": "text/x-python",
   "name": "python",
   "nbconvert_exporter": "python",
   "pygments_lexer": "ipython3",
   "version": "3.9.0"
  }
 },
 "nbformat": 4,
 "nbformat_minor": 4
}
